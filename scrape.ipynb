{
 "cells": [
  {
   "cell_type": "code",
   "execution_count": null,
   "metadata": {},
   "outputs": [],
   "source": [
    "# Assign an RPID to each parcel in our geo data\n",
    "fay['RPID'] = fay['URL'].apply(lambda row: row[-5:])"
   ]
  },
  {
   "cell_type": "code",
   "execution_count": 65,
   "metadata": {},
   "outputs": [
    {
     "name": "stderr",
     "output_type": "stream",
     "text": [
      "C:\\Users\\jacks\\AppData\\Local\\Temp\\ipykernel_13532\\3956106220.py:2: DeprecationWarning: The default dtype for empty Series will be 'object' instead of 'float64' in a future version. Specify a dtype explicitly to silence this warning.\n",
      "  ds = pd.Series()\n"
     ]
    }
   ],
   "source": [
    "s = requests.Session()\n",
    "URL = \"https://www.actdatascout.com/RealProperty/Arkansas/Washington\"\n",
    "for i, row in fay.iterrows():\n",
    "    try:\n",
    "        print(i)\n",
    "        RPID = row['RPID']\n",
    "        searchURL = \"https://www.actdatascout.com/RealProperty/ParcelView?countyIdYearRpid=51432021\" + str(RPID)\n",
    "        s.get(URL)\n",
    "\n",
    "        cookies = {'__RequestVerificationToken': s.cookies['__RequestVerificationToken'], 'ASP.NET_SessionId': s.cookies['ASP.NET_SessionId']}\n",
    "        res = s.get(searchURL, headers={'Referer': 'https://www.actdatascout.com/RealProperty/Index'}, cookies=cookies)\n",
    "\n",
    "        datalist = pd.read_html(res.content, header=0)\n",
    "        ds = pd.Series()\n",
    "\n",
    "        landValue = 0\n",
    "        buildingValue = 0\n",
    "        totalValue = 0\n",
    "        val2019 = 0\n",
    "        val2020 = 0\n",
    "\n",
    "        for frame in datalist:\n",
    "            if 'EstimatedMarket Value' in frame.columns:\n",
    "                landValue = frame['EstimatedMarket Value'][0]\n",
    "                buildingValue = frame['EstimatedMarket Value'][1]\n",
    "                totalValue = frame['EstimatedMarket Value'][2]\n",
    "            if 'Tax Year' in frame.columns:\n",
    "                # get 2020 and 2019 values\n",
    "                val2019 = frame['Total Value'][2]\n",
    "                val2020 = frame['Total Value'][1]\n",
    "\n",
    "        row['landValue'] = landValue\n",
    "        row['buildingValue'] = buildingValue\n",
    "        row['totalValue'] = totalValue\n",
    "        row['value2019'] = val2019\n",
    "        row['value2020'] = val2020\n",
    "    except:\n",
    "        print(row['RPID'])"
   ]
  }
 ],
 "metadata": {
  "interpreter": {
   "hash": "31acfc698c6f03d5c695b03ec80186cefaade46a61e036858e26c513e972ba59"
  },
  "kernelspec": {
   "display_name": "Python 3.10.2 64-bit (conda)",
   "language": "python",
   "name": "python3"
  },
  "language_info": {
   "codemirror_mode": {
    "name": "ipython",
    "version": 3
   },
   "file_extension": ".py",
   "mimetype": "text/x-python",
   "name": "python",
   "nbconvert_exporter": "python",
   "pygments_lexer": "ipython3",
   "version": "3.10.2"
  },
  "orig_nbformat": 4
 },
 "nbformat": 4,
 "nbformat_minor": 2
}
